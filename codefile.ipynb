{
 "cells": [
  {
   "cell_type": "markdown",
   "id": "b7b15488",
   "metadata": {},
   "source": [
    "# Engagement Score Prediction"
   ]
  },
  {
   "cell_type": "markdown",
   "id": "eff60590",
   "metadata": {},
   "source": [
    "### Importing required libraries"
   ]
  },
  {
   "cell_type": "code",
   "execution_count": 248,
   "id": "d31da08c",
   "metadata": {},
   "outputs": [],
   "source": [
    "import pandas as pd\n",
    "import numpy as np\n",
    "import matplotlib.pyplot as plt\n",
    "%matplotlib inline\n",
    "import seaborn as sns\n",
    "from warnings import filterwarnings\n",
    "filterwarnings('ignore')"
   ]
  },
  {
   "cell_type": "markdown",
   "id": "9accf0c8",
   "metadata": {},
   "source": [
    "### Import the train and test dataset"
   ]
  },
  {
   "cell_type": "code",
   "execution_count": 249,
   "id": "79f1fbae",
   "metadata": {},
   "outputs": [],
   "source": [
    "data_train=pd.read_csv('train_0OECtn8.csv')"
   ]
  },
  {
   "cell_type": "code",
   "execution_count": 250,
   "id": "cc2345bd",
   "metadata": {},
   "outputs": [],
   "source": [
    "data_test=pd.read_csv('test-.csv')"
   ]
  },
  {
   "cell_type": "code",
   "execution_count": 251,
   "id": "0c14aa46",
   "metadata": {},
   "outputs": [
    {
     "data": {
      "text/plain": [
       "((89197, 10), (11121, 9))"
      ]
     },
     "execution_count": 251,
     "metadata": {},
     "output_type": "execute_result"
    }
   ],
   "source": [
    "data_train.shape , data_test.shape"
   ]
  },
  {
   "cell_type": "markdown",
   "id": "ea2449da",
   "metadata": {},
   "source": [
    "We have 89197 rows and 10 columns in our train dataset.\n",
    "\n",
    "We have 11121 rows and 9 columns in our test dataset."
   ]
  },
  {
   "cell_type": "code",
   "execution_count": 252,
   "id": "b0e2f740",
   "metadata": {},
   "outputs": [
    {
     "data": {
      "text/html": [
       "<div>\n",
       "<style scoped>\n",
       "    .dataframe tbody tr th:only-of-type {\n",
       "        vertical-align: middle;\n",
       "    }\n",
       "\n",
       "    .dataframe tbody tr th {\n",
       "        vertical-align: top;\n",
       "    }\n",
       "\n",
       "    .dataframe thead th {\n",
       "        text-align: right;\n",
       "    }\n",
       "</style>\n",
       "<table border=\"1\" class=\"dataframe\">\n",
       "  <thead>\n",
       "    <tr style=\"text-align: right;\">\n",
       "      <th></th>\n",
       "      <th>row_id</th>\n",
       "      <th>user_id</th>\n",
       "      <th>category_id</th>\n",
       "      <th>video_id</th>\n",
       "      <th>age</th>\n",
       "      <th>gender</th>\n",
       "      <th>profession</th>\n",
       "      <th>followers</th>\n",
       "      <th>views</th>\n",
       "      <th>engagement_score</th>\n",
       "    </tr>\n",
       "  </thead>\n",
       "  <tbody>\n",
       "    <tr>\n",
       "      <th>0</th>\n",
       "      <td>1</td>\n",
       "      <td>19990</td>\n",
       "      <td>37</td>\n",
       "      <td>128</td>\n",
       "      <td>24</td>\n",
       "      <td>Male</td>\n",
       "      <td>Student</td>\n",
       "      <td>180</td>\n",
       "      <td>1000</td>\n",
       "      <td>4.33</td>\n",
       "    </tr>\n",
       "    <tr>\n",
       "      <th>1</th>\n",
       "      <td>2</td>\n",
       "      <td>5304</td>\n",
       "      <td>32</td>\n",
       "      <td>132</td>\n",
       "      <td>14</td>\n",
       "      <td>Female</td>\n",
       "      <td>Student</td>\n",
       "      <td>330</td>\n",
       "      <td>714</td>\n",
       "      <td>1.79</td>\n",
       "    </tr>\n",
       "    <tr>\n",
       "      <th>2</th>\n",
       "      <td>3</td>\n",
       "      <td>1840</td>\n",
       "      <td>12</td>\n",
       "      <td>24</td>\n",
       "      <td>19</td>\n",
       "      <td>Male</td>\n",
       "      <td>Student</td>\n",
       "      <td>180</td>\n",
       "      <td>138</td>\n",
       "      <td>4.35</td>\n",
       "    </tr>\n",
       "    <tr>\n",
       "      <th>3</th>\n",
       "      <td>4</td>\n",
       "      <td>12597</td>\n",
       "      <td>23</td>\n",
       "      <td>112</td>\n",
       "      <td>19</td>\n",
       "      <td>Male</td>\n",
       "      <td>Student</td>\n",
       "      <td>220</td>\n",
       "      <td>613</td>\n",
       "      <td>3.77</td>\n",
       "    </tr>\n",
       "    <tr>\n",
       "      <th>4</th>\n",
       "      <td>5</td>\n",
       "      <td>13626</td>\n",
       "      <td>23</td>\n",
       "      <td>112</td>\n",
       "      <td>27</td>\n",
       "      <td>Male</td>\n",
       "      <td>Working Professional</td>\n",
       "      <td>220</td>\n",
       "      <td>613</td>\n",
       "      <td>3.13</td>\n",
       "    </tr>\n",
       "  </tbody>\n",
       "</table>\n",
       "</div>"
      ],
      "text/plain": [
       "   row_id  user_id  category_id  video_id  age  gender            profession  \\\n",
       "0       1    19990           37       128   24    Male               Student   \n",
       "1       2     5304           32       132   14  Female               Student   \n",
       "2       3     1840           12        24   19    Male               Student   \n",
       "3       4    12597           23       112   19    Male               Student   \n",
       "4       5    13626           23       112   27    Male  Working Professional   \n",
       "\n",
       "   followers  views  engagement_score  \n",
       "0        180   1000              4.33  \n",
       "1        330    714              1.79  \n",
       "2        180    138              4.35  \n",
       "3        220    613              3.77  \n",
       "4        220    613              3.13  "
      ]
     },
     "execution_count": 252,
     "metadata": {},
     "output_type": "execute_result"
    }
   ],
   "source": [
    "#Checking for first 5 rows\n",
    "data_train.head()"
   ]
  },
  {
   "cell_type": "code",
   "execution_count": 253,
   "id": "43362d0a",
   "metadata": {},
   "outputs": [
    {
     "data": {
      "text/plain": [
       "row_id                int64\n",
       "user_id               int64\n",
       "category_id           int64\n",
       "video_id              int64\n",
       "age                   int64\n",
       "gender               object\n",
       "profession           object\n",
       "followers             int64\n",
       "views                 int64\n",
       "engagement_score    float64\n",
       "dtype: object"
      ]
     },
     "execution_count": 253,
     "metadata": {},
     "output_type": "execute_result"
    }
   ],
   "source": [
    "# Datatypes present in the train dataset.\n",
    "data_train.dtypes"
   ]
  },
  {
   "cell_type": "markdown",
   "id": "867686ba",
   "metadata": {},
   "source": [
    "### Statistical measures of variables"
   ]
  },
  {
   "cell_type": "code",
   "execution_count": 254,
   "id": "bf727474",
   "metadata": {},
   "outputs": [
    {
     "data": {
      "text/html": [
       "<div>\n",
       "<style scoped>\n",
       "    .dataframe tbody tr th:only-of-type {\n",
       "        vertical-align: middle;\n",
       "    }\n",
       "\n",
       "    .dataframe tbody tr th {\n",
       "        vertical-align: top;\n",
       "    }\n",
       "\n",
       "    .dataframe thead th {\n",
       "        text-align: right;\n",
       "    }\n",
       "</style>\n",
       "<table border=\"1\" class=\"dataframe\">\n",
       "  <thead>\n",
       "    <tr style=\"text-align: right;\">\n",
       "      <th></th>\n",
       "      <th>row_id</th>\n",
       "      <th>user_id</th>\n",
       "      <th>category_id</th>\n",
       "      <th>video_id</th>\n",
       "      <th>age</th>\n",
       "      <th>followers</th>\n",
       "      <th>views</th>\n",
       "      <th>engagement_score</th>\n",
       "    </tr>\n",
       "  </thead>\n",
       "  <tbody>\n",
       "    <tr>\n",
       "      <th>count</th>\n",
       "      <td>89197.000000</td>\n",
       "      <td>89197.000000</td>\n",
       "      <td>89197.000000</td>\n",
       "      <td>89197.000000</td>\n",
       "      <td>89197.000000</td>\n",
       "      <td>89197.000000</td>\n",
       "      <td>89197.000000</td>\n",
       "      <td>89197.000000</td>\n",
       "    </tr>\n",
       "    <tr>\n",
       "      <th>mean</th>\n",
       "      <td>44599.000000</td>\n",
       "      <td>13881.909806</td>\n",
       "      <td>18.323733</td>\n",
       "      <td>77.715383</td>\n",
       "      <td>24.848616</td>\n",
       "      <td>252.460172</td>\n",
       "      <td>502.980268</td>\n",
       "      <td>3.487797</td>\n",
       "    </tr>\n",
       "    <tr>\n",
       "      <th>std</th>\n",
       "      <td>25749.100318</td>\n",
       "      <td>8005.582771</td>\n",
       "      <td>11.675154</td>\n",
       "      <td>48.469656</td>\n",
       "      <td>8.955535</td>\n",
       "      <td>46.094468</td>\n",
       "      <td>268.569482</td>\n",
       "      <td>0.863498</td>\n",
       "    </tr>\n",
       "    <tr>\n",
       "      <th>min</th>\n",
       "      <td>1.000000</td>\n",
       "      <td>1.000000</td>\n",
       "      <td>1.000000</td>\n",
       "      <td>1.000000</td>\n",
       "      <td>10.000000</td>\n",
       "      <td>160.000000</td>\n",
       "      <td>30.000000</td>\n",
       "      <td>0.000000</td>\n",
       "    </tr>\n",
       "    <tr>\n",
       "      <th>25%</th>\n",
       "      <td>22300.000000</td>\n",
       "      <td>6945.000000</td>\n",
       "      <td>8.000000</td>\n",
       "      <td>34.000000</td>\n",
       "      <td>18.000000</td>\n",
       "      <td>230.000000</td>\n",
       "      <td>229.000000</td>\n",
       "      <td>2.900000</td>\n",
       "    </tr>\n",
       "    <tr>\n",
       "      <th>50%</th>\n",
       "      <td>44599.000000</td>\n",
       "      <td>13892.000000</td>\n",
       "      <td>16.000000</td>\n",
       "      <td>76.000000</td>\n",
       "      <td>23.000000</td>\n",
       "      <td>240.000000</td>\n",
       "      <td>467.000000</td>\n",
       "      <td>3.710000</td>\n",
       "    </tr>\n",
       "    <tr>\n",
       "      <th>75%</th>\n",
       "      <td>66898.000000</td>\n",
       "      <td>20819.000000</td>\n",
       "      <td>26.000000</td>\n",
       "      <td>120.000000</td>\n",
       "      <td>32.000000</td>\n",
       "      <td>280.000000</td>\n",
       "      <td>714.000000</td>\n",
       "      <td>4.150000</td>\n",
       "    </tr>\n",
       "    <tr>\n",
       "      <th>max</th>\n",
       "      <td>89197.000000</td>\n",
       "      <td>27734.000000</td>\n",
       "      <td>47.000000</td>\n",
       "      <td>175.000000</td>\n",
       "      <td>68.000000</td>\n",
       "      <td>360.000000</td>\n",
       "      <td>1000.000000</td>\n",
       "      <td>5.000000</td>\n",
       "    </tr>\n",
       "  </tbody>\n",
       "</table>\n",
       "</div>"
      ],
      "text/plain": [
       "             row_id       user_id   category_id      video_id           age  \\\n",
       "count  89197.000000  89197.000000  89197.000000  89197.000000  89197.000000   \n",
       "mean   44599.000000  13881.909806     18.323733     77.715383     24.848616   \n",
       "std    25749.100318   8005.582771     11.675154     48.469656      8.955535   \n",
       "min        1.000000      1.000000      1.000000      1.000000     10.000000   \n",
       "25%    22300.000000   6945.000000      8.000000     34.000000     18.000000   \n",
       "50%    44599.000000  13892.000000     16.000000     76.000000     23.000000   \n",
       "75%    66898.000000  20819.000000     26.000000    120.000000     32.000000   \n",
       "max    89197.000000  27734.000000     47.000000    175.000000     68.000000   \n",
       "\n",
       "          followers         views  engagement_score  \n",
       "count  89197.000000  89197.000000      89197.000000  \n",
       "mean     252.460172    502.980268          3.487797  \n",
       "std       46.094468    268.569482          0.863498  \n",
       "min      160.000000     30.000000          0.000000  \n",
       "25%      230.000000    229.000000          2.900000  \n",
       "50%      240.000000    467.000000          3.710000  \n",
       "75%      280.000000    714.000000          4.150000  \n",
       "max      360.000000   1000.000000          5.000000  "
      ]
     },
     "execution_count": 254,
     "metadata": {},
     "output_type": "execute_result"
    }
   ],
   "source": [
    "data_train.describe()"
   ]
  },
  {
   "cell_type": "code",
   "execution_count": 255,
   "id": "e2a3d406",
   "metadata": {},
   "outputs": [
    {
     "data": {
      "text/html": [
       "<div>\n",
       "<style scoped>\n",
       "    .dataframe tbody tr th:only-of-type {\n",
       "        vertical-align: middle;\n",
       "    }\n",
       "\n",
       "    .dataframe tbody tr th {\n",
       "        vertical-align: top;\n",
       "    }\n",
       "\n",
       "    .dataframe thead th {\n",
       "        text-align: right;\n",
       "    }\n",
       "</style>\n",
       "<table border=\"1\" class=\"dataframe\">\n",
       "  <thead>\n",
       "    <tr style=\"text-align: right;\">\n",
       "      <th></th>\n",
       "      <th>row_id</th>\n",
       "      <th>user_id</th>\n",
       "      <th>category_id</th>\n",
       "      <th>video_id</th>\n",
       "      <th>age</th>\n",
       "      <th>followers</th>\n",
       "      <th>views</th>\n",
       "    </tr>\n",
       "  </thead>\n",
       "  <tbody>\n",
       "    <tr>\n",
       "      <th>count</th>\n",
       "      <td>11121.000000</td>\n",
       "      <td>11121.000000</td>\n",
       "      <td>11121.000000</td>\n",
       "      <td>11121.000000</td>\n",
       "      <td>11121.000000</td>\n",
       "      <td>11121.000000</td>\n",
       "      <td>11121.000000</td>\n",
       "    </tr>\n",
       "    <tr>\n",
       "      <th>mean</th>\n",
       "      <td>94758.000000</td>\n",
       "      <td>13825.707400</td>\n",
       "      <td>15.666487</td>\n",
       "      <td>79.742559</td>\n",
       "      <td>24.854150</td>\n",
       "      <td>249.691574</td>\n",
       "      <td>454.959986</td>\n",
       "    </tr>\n",
       "    <tr>\n",
       "      <th>std</th>\n",
       "      <td>3210.500506</td>\n",
       "      <td>8001.221954</td>\n",
       "      <td>10.313259</td>\n",
       "      <td>48.702501</td>\n",
       "      <td>8.953976</td>\n",
       "      <td>38.511469</td>\n",
       "      <td>249.759038</td>\n",
       "    </tr>\n",
       "    <tr>\n",
       "      <th>min</th>\n",
       "      <td>89198.000000</td>\n",
       "      <td>2.000000</td>\n",
       "      <td>1.000000</td>\n",
       "      <td>1.000000</td>\n",
       "      <td>10.000000</td>\n",
       "      <td>160.000000</td>\n",
       "      <td>44.000000</td>\n",
       "    </tr>\n",
       "    <tr>\n",
       "      <th>25%</th>\n",
       "      <td>91978.000000</td>\n",
       "      <td>6881.000000</td>\n",
       "      <td>8.000000</td>\n",
       "      <td>39.000000</td>\n",
       "      <td>18.000000</td>\n",
       "      <td>230.000000</td>\n",
       "      <td>229.000000</td>\n",
       "    </tr>\n",
       "    <tr>\n",
       "      <th>50%</th>\n",
       "      <td>94758.000000</td>\n",
       "      <td>13857.000000</td>\n",
       "      <td>12.000000</td>\n",
       "      <td>80.000000</td>\n",
       "      <td>23.000000</td>\n",
       "      <td>240.000000</td>\n",
       "      <td>369.000000</td>\n",
       "    </tr>\n",
       "    <tr>\n",
       "      <th>75%</th>\n",
       "      <td>97538.000000</td>\n",
       "      <td>20763.000000</td>\n",
       "      <td>25.000000</td>\n",
       "      <td>121.000000</td>\n",
       "      <td>32.000000</td>\n",
       "      <td>270.000000</td>\n",
       "      <td>662.000000</td>\n",
       "    </tr>\n",
       "    <tr>\n",
       "      <th>max</th>\n",
       "      <td>100318.000000</td>\n",
       "      <td>27734.000000</td>\n",
       "      <td>46.000000</td>\n",
       "      <td>174.000000</td>\n",
       "      <td>68.000000</td>\n",
       "      <td>360.000000</td>\n",
       "      <td>990.000000</td>\n",
       "    </tr>\n",
       "  </tbody>\n",
       "</table>\n",
       "</div>"
      ],
      "text/plain": [
       "              row_id       user_id   category_id      video_id           age  \\\n",
       "count   11121.000000  11121.000000  11121.000000  11121.000000  11121.000000   \n",
       "mean    94758.000000  13825.707400     15.666487     79.742559     24.854150   \n",
       "std      3210.500506   8001.221954     10.313259     48.702501      8.953976   \n",
       "min     89198.000000      2.000000      1.000000      1.000000     10.000000   \n",
       "25%     91978.000000   6881.000000      8.000000     39.000000     18.000000   \n",
       "50%     94758.000000  13857.000000     12.000000     80.000000     23.000000   \n",
       "75%     97538.000000  20763.000000     25.000000    121.000000     32.000000   \n",
       "max    100318.000000  27734.000000     46.000000    174.000000     68.000000   \n",
       "\n",
       "          followers         views  \n",
       "count  11121.000000  11121.000000  \n",
       "mean     249.691574    454.959986  \n",
       "std       38.511469    249.759038  \n",
       "min      160.000000     44.000000  \n",
       "25%      230.000000    229.000000  \n",
       "50%      240.000000    369.000000  \n",
       "75%      270.000000    662.000000  \n",
       "max      360.000000    990.000000  "
      ]
     },
     "execution_count": 255,
     "metadata": {},
     "output_type": "execute_result"
    }
   ],
   "source": [
    "data_test.describe()"
   ]
  },
  {
   "cell_type": "markdown",
   "id": "b95834cd",
   "metadata": {},
   "source": [
    "### checking for missing values"
   ]
  },
  {
   "cell_type": "code",
   "execution_count": 256,
   "id": "5e640b66",
   "metadata": {},
   "outputs": [
    {
     "name": "stdout",
     "output_type": "stream",
     "text": [
      "row_id              0\n",
      "user_id             0\n",
      "category_id         0\n",
      "video_id            0\n",
      "age                 0\n",
      "gender              0\n",
      "profession          0\n",
      "followers           0\n",
      "views               0\n",
      "engagement_score    0\n",
      "dtype: int64\n"
     ]
    }
   ],
   "source": [
    "print(data_train.isnull().sum())\n"
   ]
  },
  {
   "cell_type": "code",
   "execution_count": 257,
   "id": "78e5835d",
   "metadata": {},
   "outputs": [
    {
     "name": "stdout",
     "output_type": "stream",
     "text": [
      "row_id         0\n",
      "user_id        0\n",
      "category_id    0\n",
      "video_id       0\n",
      "age            0\n",
      "gender         0\n",
      "profession     0\n",
      "followers      0\n",
      "views          0\n",
      "dtype: int64\n"
     ]
    }
   ],
   "source": [
    "print(data_test.isnull().sum())"
   ]
  },
  {
   "cell_type": "markdown",
   "id": "57d5b0cf",
   "metadata": {},
   "source": [
    "There are no null values in our dataset"
   ]
  },
  {
   "cell_type": "code",
   "execution_count": null,
   "id": "90b8e6cb",
   "metadata": {},
   "outputs": [],
   "source": []
  },
  {
   "cell_type": "markdown",
   "id": "0f0f6492",
   "metadata": {},
   "source": [
    "We have percent of Gender:  Male = 58% , Female 42%"
   ]
  },
  {
   "cell_type": "markdown",
   "id": "826a2bf2",
   "metadata": {},
   "source": [
    "We have percent of professional: Student=50% , Other=30 % , Working Professional=20 % "
   ]
  },
  {
   "cell_type": "markdown",
   "id": "4d9bc14b",
   "metadata": {},
   "source": [
    "The highest percent are students"
   ]
  },
  {
   "cell_type": "code",
   "execution_count": 258,
   "id": "eadc8ec7",
   "metadata": {},
   "outputs": [
    {
     "data": {
      "text/plain": [
       "<AxesSubplot:xlabel='age', ylabel='count'>"
      ]
     },
     "execution_count": 258,
     "metadata": {},
     "output_type": "execute_result"
    },
    {
     "data": {
      "image/png": "[encoded data removed]",
      "text/plain": [
       "<Figure size 1440x504 with 1 Axes>"
      ]
     },
     "metadata": {
      "needs_background": "light"
     },
     "output_type": "display_data"
    }
   ],
   "source": [
    "plt.figure(figsize=(20,7))\n",
    "sns.countplot(data_train['age'])"
   ]
  },
  {
   "cell_type": "markdown",
   "id": "39a04d88",
   "metadata": {},
   "source": [
    "The highest percent are of age 15-21"
   ]
  },
  {
   "cell_type": "code",
   "execution_count": 259,
   "id": "f76b2ad5",
   "metadata": {},
   "outputs": [
    {
     "data": {
      "text/plain": [
       "<AxesSubplot:xlabel='category_id', ylabel='count'>"
      ]
     },
     "execution_count": 259,
     "metadata": {},
     "output_type": "execute_result"
    },
    {
     "data": {
      "image/png": "[encoded data removed]",
      "text/plain": [
       "<Figure size 1440x504 with 1 Axes>"
      ]
     },
     "metadata": {
      "needs_background": "light"
     },
     "output_type": "display_data"
    }
   ],
   "source": [
    "plt.figure(figsize=(20,7))\n",
    "sns.countplot(data_train['category_id'])"
   ]
  },
  {
   "cell_type": "markdown",
   "id": "9aa09989",
   "metadata": {},
   "source": [
    "The highest percent category_id is 5"
   ]
  },
  {
   "cell_type": "code",
   "execution_count": 260,
   "id": "956fb1ab",
   "metadata": {},
   "outputs": [
    {
     "data": {
      "text/plain": [
       "<AxesSubplot:xlabel='age', ylabel='engagement_score'>"
      ]
     },
     "execution_count": 260,
     "metadata": {},
     "output_type": "execute_result"
    },
    {
     "data": {
      "image/png": "[encoded data removed]",
      "text/plain": [
       "<Figure size 1440x504 with 1 Axes>"
      ]
     },
     "metadata": {
      "needs_background": "light"
     },
     "output_type": "display_data"
    }
   ],
   "source": [
    "#age with engagement score\n",
    "plt.figure(figsize=(20,7))\n",
    "sns.lineplot(data=data_train, x='age', y='engagement_score',hue='gender')"
   ]
  },
  {
   "cell_type": "markdown",
   "id": "4f38e87e",
   "metadata": {},
   "source": [
    "The engagement score is highest among male than female and also highest for 10-20 age category"
   ]
  },
  {
   "cell_type": "markdown",
   "id": "94de95e2",
   "metadata": {},
   "source": [
    "we can see the plotting of various variables with gender being considered"
   ]
  },
  {
   "cell_type": "code",
   "execution_count": 261,
   "id": "397abe5a",
   "metadata": {},
   "outputs": [
    {
     "data": {
      "image/png": "[encoded data removed]",
      "text/plain": [
       "<Figure size 1440x720 with 5 Axes>"
      ]
     },
     "metadata": {
      "needs_background": "light"
     },
     "output_type": "display_data"
    }
   ],
   "source": [
    "columns=['category_id','video_id', 'age','followers','views']\n",
    "plt.figure(figsize=(20,10))\n",
    "for i in range (len(columns)):\n",
    "    plt.subplot( 2,3,i+1)\n",
    "    sns.histplot(data=data_train,hue='profession',x=columns[i])"
   ]
  },
  {
   "cell_type": "markdown",
   "id": "73b157fa",
   "metadata": {},
   "source": [
    "we can see the plotting of various variables with profession being considered"
   ]
  },
  {
   "cell_type": "markdown",
   "id": "6876700f",
   "metadata": {},
   "source": [
    "### Checking for outliers"
   ]
  },
  {
   "cell_type": "code",
   "execution_count": 262,
   "id": "c6bd42e5",
   "metadata": {},
   "outputs": [
    {
     "data": {
      "text/plain": [
       "<AxesSubplot:xlabel='category_id'>"
      ]
     },
     "execution_count": 262,
     "metadata": {},
     "output_type": "execute_result"
    },
    {
     "data": {
      "image/png": "[encoded data removed]",
      "text/plain": [
       "<Figure size 432x288 with 1 Axes>"
      ]
     },
     "metadata": {
      "needs_background": "light"
     },
     "output_type": "display_data"
    }
   ],
   "source": [
    "sns.boxplot(data_train['category_id'])"
   ]
  },
  {
   "cell_type": "markdown",
   "id": "f177d82b",
   "metadata": {},
   "source": [
    "We can see that there are no outliers present."
   ]
  },
  {
   "cell_type": "markdown",
   "id": "c8453498",
   "metadata": {},
   "source": [
    "We can see that there are no outliers present"
   ]
  },
  {
   "cell_type": "code",
   "execution_count": 263,
   "id": "41089ee6",
   "metadata": {},
   "outputs": [
    {
     "data": {
      "text/plain": [
       "<AxesSubplot:xlabel='followers'>"
      ]
     },
     "execution_count": 263,
     "metadata": {},
     "output_type": "execute_result"
    },
    {
     "data": {
      "image/png": "[encoded data removed]",
      "text/plain": [
       "<Figure size 432x288 with 1 Axes>"
      ]
     },
     "metadata": {
      "needs_background": "light"
     },
     "output_type": "display_data"
    }
   ],
   "source": [
    "sns.boxplot(data_train['followers'])"
   ]
  },
  {
   "cell_type": "markdown",
   "id": "ca3c5b5b",
   "metadata": {},
   "source": [
    "We can see that there are no outliers present"
   ]
  },
  {
   "cell_type": "markdown",
   "id": "bb0eeac9",
   "metadata": {},
   "source": [
    "We can see that there are no outliers present"
   ]
  },
  {
   "cell_type": "code",
   "execution_count": 264,
   "id": "d4ed0900",
   "metadata": {
    "scrolled": true
   },
   "outputs": [
    {
     "data": {
      "text/plain": [
       "<AxesSubplot:>"
      ]
     },
     "execution_count": 264,
     "metadata": {},
     "output_type": "execute_result"
    },
    {
     "data": {
      "image/png": "[encoded data removed]",
      "text/plain": [
       "<Figure size 432x288 with 2 Axes>"
      ]
     },
     "metadata": {
      "needs_background": "light"
     },
     "output_type": "display_data"
    }
   ],
   "source": [
    "#visualizing the relationship based on correlaion\n",
    "sns.heatmap(data_train.corr())"
   ]
  },
  {
   "cell_type": "code",
   "execution_count": 265,
   "id": "ce0e072f",
   "metadata": {},
   "outputs": [
    {
     "data": {
      "text/html": [
       "<div>\n",
       "<style scoped>\n",
       "    .dataframe tbody tr th:only-of-type {\n",
       "        vertical-align: middle;\n",
       "    }\n",
       "\n",
       "    .dataframe tbody tr th {\n",
       "        vertical-align: top;\n",
       "    }\n",
       "\n",
       "    .dataframe thead th {\n",
       "        text-align: right;\n",
       "    }\n",
       "</style>\n",
       "<table border=\"1\" class=\"dataframe\">\n",
       "  <thead>\n",
       "    <tr style=\"text-align: right;\">\n",
       "      <th></th>\n",
       "      <th>row_id</th>\n",
       "      <th>user_id</th>\n",
       "      <th>category_id</th>\n",
       "      <th>video_id</th>\n",
       "      <th>age</th>\n",
       "      <th>followers</th>\n",
       "      <th>views</th>\n",
       "      <th>engagement_score</th>\n",
       "    </tr>\n",
       "  </thead>\n",
       "  <tbody>\n",
       "    <tr>\n",
       "      <th>row_id</th>\n",
       "      <td>1.000000</td>\n",
       "      <td>-0.006953</td>\n",
       "      <td>0.002833</td>\n",
       "      <td>0.000891</td>\n",
       "      <td>-0.005199</td>\n",
       "      <td>-0.001374</td>\n",
       "      <td>-0.001815</td>\n",
       "      <td>-0.003368</td>\n",
       "    </tr>\n",
       "    <tr>\n",
       "      <th>user_id</th>\n",
       "      <td>-0.006953</td>\n",
       "      <td>1.000000</td>\n",
       "      <td>0.002139</td>\n",
       "      <td>0.005232</td>\n",
       "      <td>-0.000036</td>\n",
       "      <td>-0.002026</td>\n",
       "      <td>-0.001843</td>\n",
       "      <td>-0.002900</td>\n",
       "    </tr>\n",
       "    <tr>\n",
       "      <th>category_id</th>\n",
       "      <td>0.002833</td>\n",
       "      <td>0.002139</td>\n",
       "      <td>1.000000</td>\n",
       "      <td>0.556550</td>\n",
       "      <td>-0.003152</td>\n",
       "      <td>0.056432</td>\n",
       "      <td>0.079321</td>\n",
       "      <td>-0.094288</td>\n",
       "    </tr>\n",
       "    <tr>\n",
       "      <th>video_id</th>\n",
       "      <td>0.000891</td>\n",
       "      <td>0.005232</td>\n",
       "      <td>0.556550</td>\n",
       "      <td>1.000000</td>\n",
       "      <td>-0.005615</td>\n",
       "      <td>0.098778</td>\n",
       "      <td>-0.029448</td>\n",
       "      <td>-0.030552</td>\n",
       "    </tr>\n",
       "    <tr>\n",
       "      <th>age</th>\n",
       "      <td>-0.005199</td>\n",
       "      <td>-0.000036</td>\n",
       "      <td>-0.003152</td>\n",
       "      <td>-0.005615</td>\n",
       "      <td>1.000000</td>\n",
       "      <td>0.004623</td>\n",
       "      <td>0.011042</td>\n",
       "      <td>-0.232626</td>\n",
       "    </tr>\n",
       "    <tr>\n",
       "      <th>followers</th>\n",
       "      <td>-0.001374</td>\n",
       "      <td>-0.002026</td>\n",
       "      <td>0.056432</td>\n",
       "      <td>0.098778</td>\n",
       "      <td>0.004623</td>\n",
       "      <td>1.000000</td>\n",
       "      <td>0.360808</td>\n",
       "      <td>0.000855</td>\n",
       "    </tr>\n",
       "    <tr>\n",
       "      <th>views</th>\n",
       "      <td>-0.001815</td>\n",
       "      <td>-0.001843</td>\n",
       "      <td>0.079321</td>\n",
       "      <td>-0.029448</td>\n",
       "      <td>0.011042</td>\n",
       "      <td>0.360808</td>\n",
       "      <td>1.000000</td>\n",
       "      <td>-0.084679</td>\n",
       "    </tr>\n",
       "    <tr>\n",
       "      <th>engagement_score</th>\n",
       "      <td>-0.003368</td>\n",
       "      <td>-0.002900</td>\n",
       "      <td>-0.094288</td>\n",
       "      <td>-0.030552</td>\n",
       "      <td>-0.232626</td>\n",
       "      <td>0.000855</td>\n",
       "      <td>-0.084679</td>\n",
       "      <td>1.000000</td>\n",
       "    </tr>\n",
       "  </tbody>\n",
       "</table>\n",
       "</div>"
      ],
      "text/plain": [
       "                    row_id   user_id  category_id  video_id       age  \\\n",
       "row_id            1.000000 -0.006953     0.002833  0.000891 -0.005199   \n",
       "user_id          -0.006953  1.000000     0.002139  0.005232 -0.000036   \n",
       "category_id       0.002833  0.002139     1.000000  0.556550 -0.003152   \n",
       "video_id          0.000891  0.005232     0.556550  1.000000 -0.005615   \n",
       "age              -0.005199 -0.000036    -0.003152 -0.005615  1.000000   \n",
       "followers        -0.001374 -0.002026     0.056432  0.098778  0.004623   \n",
       "views            -0.001815 -0.001843     0.079321 -0.029448  0.011042   \n",
       "engagement_score -0.003368 -0.002900    -0.094288 -0.030552 -0.232626   \n",
       "\n",
       "                  followers     views  engagement_score  \n",
       "row_id            -0.001374 -0.001815         -0.003368  \n",
       "user_id           -0.002026 -0.001843         -0.002900  \n",
       "category_id        0.056432  0.079321         -0.094288  \n",
       "video_id           0.098778 -0.029448         -0.030552  \n",
       "age                0.004623  0.011042         -0.232626  \n",
       "followers          1.000000  0.360808          0.000855  \n",
       "views              0.360808  1.000000         -0.084679  \n",
       "engagement_score   0.000855 -0.084679          1.000000  "
      ]
     },
     "execution_count": 265,
     "metadata": {},
     "output_type": "execute_result"
    }
   ],
   "source": [
    "#calculating the correlation\n",
    "data_train.corr()"
   ]
  },
  {
   "cell_type": "markdown",
   "id": "5578f26c",
   "metadata": {},
   "source": [
    "### Summary:"
   ]
  },
  {
   "cell_type": "markdown",
   "id": "7634413d",
   "metadata": {},
   "source": [
    "  1. We see that these variables are not normally distributed.\n",
    "\n",
    "  2.With these variables I created a model which gave 35% score. So the score can be improved by creating new features.\n"
   ]
  },
  {
   "cell_type": "markdown",
   "id": "0a0f17d9",
   "metadata": {},
   "source": [
    "### Creating new features- Feature Creation"
   ]
  },
  {
   "cell_type": "code",
   "execution_count": 266,
   "id": "d17e7671",
   "metadata": {},
   "outputs": [
    {
     "name": "stdout",
     "output_type": "stream",
     "text": [
      "category_id\n",
      "1     1810\n",
      "2      167\n",
      "3     1845\n",
      "4     3678\n",
      "5     8104\n",
      "6     1399\n",
      "7     1885\n",
      "8     6313\n",
      "9     1886\n",
      "10    1217\n",
      "11    3766\n",
      "12    3889\n",
      "13    2777\n",
      "14     536\n",
      "15    2164\n",
      "16    3264\n",
      "17    1208\n",
      "18    2241\n",
      "19    4679\n",
      "20     702\n",
      "21    4043\n",
      "22     366\n",
      "23    2671\n",
      "24     524\n",
      "25    4880\n",
      "26    1156\n",
      "27    1103\n",
      "28    1309\n",
      "29     916\n",
      "30     548\n",
      "31    1855\n",
      "32    2712\n",
      "33     517\n",
      "34    3297\n",
      "35     986\n",
      "36    1025\n",
      "37     962\n",
      "38     534\n",
      "39    1339\n",
      "40     458\n",
      "41     545\n",
      "42    2178\n",
      "43    1019\n",
      "44     214\n",
      "45     227\n",
      "46     236\n",
      "47      47\n",
      "Name: engagement_score, dtype: int64\n"
     ]
    }
   ],
   "source": [
    "#category wise engagement score\n",
    "print(data_train.groupby('category_id')['engagement_score'].count())\n",
    "data_train['avg_category_score'] = data_train['category_id'].map(data_train.groupby('category_id')['engagement_score'].mean().to_dict())\n",
    "data_test['avg_category_score'] = data_test['category_id'].map(data_train.groupby('category_id')['engagement_score'].mean().to_dict())"
   ]
  },
  {
   "cell_type": "markdown",
   "id": "4500b6f0",
   "metadata": {},
   "source": [
    "There are 47 categories"
   ]
  },
  {
   "cell_type": "code",
   "execution_count": 267,
   "id": "27cb42fa",
   "metadata": {},
   "outputs": [
    {
     "name": "stdout",
     "output_type": "stream",
     "text": [
      "user_id\n",
      "1        3\n",
      "2        5\n",
      "3        4\n",
      "4        3\n",
      "5        4\n",
      "        ..\n",
      "27730    3\n",
      "27731    2\n",
      "27732    2\n",
      "27733    3\n",
      "27734    2\n",
      "Name: engagement_score, Length: 27734, dtype: int64\n"
     ]
    }
   ],
   "source": [
    "#user_id wise engagement score\n",
    "print(data_train.groupby('user_id')['engagement_score'].count())\n",
    "data_train['avg_user_score'] = data_train['user_id'].map(data_train.groupby('user_id')['engagement_score'].mean().to_dict())\n",
    "data_test['avg_user_score'] = data_test['user_id'].map(data_train.groupby('user_id')['engagement_score'].mean().to_dict())"
   ]
  },
  {
   "cell_type": "markdown",
   "id": "efdd765e",
   "metadata": {},
   "source": [
    "There are 27734 users"
   ]
  },
  {
   "cell_type": "code",
   "execution_count": 268,
   "id": "d6295f9d",
   "metadata": {},
   "outputs": [
    {
     "name": "stdout",
     "output_type": "stream",
     "text": [
      "video_id\n",
      "1      1282\n",
      "2       622\n",
      "3       167\n",
      "4       932\n",
      "5       913\n",
      "       ... \n",
      "171      78\n",
      "172     154\n",
      "173      80\n",
      "174      70\n",
      "175      47\n",
      "Name: engagement_score, Length: 175, dtype: int64\n"
     ]
    }
   ],
   "source": [
    "#video_id wise engagement score\n",
    "print(data_train.groupby('video_id')['engagement_score'].count())\n",
    "data_train['avg_video_score'] = data_train['video_id'].map(data_train.groupby('video_id')['engagement_score'].mean().to_dict())\n",
    "data_test['avg_video_score'] = data_test['video_id'].map(data_train.groupby('video_id')['engagement_score'].mean().to_dict())"
   ]
  },
  {
   "cell_type": "markdown",
   "id": "c287495e",
   "metadata": {},
   "source": [
    "There are 175 groups"
   ]
  },
  {
   "cell_type": "code",
   "execution_count": 269,
   "id": "46e4f78e",
   "metadata": {},
   "outputs": [],
   "source": [
    "#age wise engagement score\n",
    "data_train['avg_age_score'] = data_train['age'].map(data_train.groupby('age')['engagement_score'].mean().to_dict())\n",
    "data_test['avg_age_score'] = data_test['age'].map(data_train.groupby('age')['engagement_score'].mean().to_dict())"
   ]
  },
  {
   "cell_type": "code",
   "execution_count": 270,
   "id": "958452b8",
   "metadata": {},
   "outputs": [
    {
     "name": "stdout",
     "output_type": "stream",
     "text": [
      "gender\n",
      "Female    36800\n",
      "Male      52397\n",
      "Name: engagement_score, dtype: int64\n"
     ]
    }
   ],
   "source": [
    "#gender wise engagement score\n",
    "print(data_train.groupby('gender')['engagement_score'].count())\n",
    "data_train['avg_gender_score'] = data_train['gender'].map(data_train.groupby('gender')['engagement_score'].mean().to_dict())\n",
    "data_test['avg_gender_score'] = data_test['gender'].map(data_train.groupby('gender')['engagement_score'].mean().to_dict())"
   ]
  },
  {
   "cell_type": "markdown",
   "id": "8fb28e5b",
   "metadata": {},
   "source": [
    "There are 2 groups"
   ]
  },
  {
   "cell_type": "code",
   "execution_count": 271,
   "id": "67605ea9",
   "metadata": {},
   "outputs": [
    {
     "name": "stdout",
     "output_type": "stream",
     "text": [
      "profession\n",
      "Other                   26840\n",
      "Student                 44638\n",
      "Working Professional    17719\n",
      "Name: engagement_score, dtype: int64\n"
     ]
    }
   ],
   "source": [
    "#profession wise engagement score\n",
    "print(data_train.groupby('profession')['engagement_score'].count())\n",
    "data_train['avg_profession_score'] = data_train['profession'].map(data_train.groupby('profession')['engagement_score'].mean().to_dict())\n",
    "data_test['avg_profession_score'] = data_test['profession'].map(data_train.groupby('profession')['engagement_score'].mean().to_dict())"
   ]
  },
  {
   "cell_type": "markdown",
   "id": "5a3a23ce",
   "metadata": {},
   "source": [
    "There are 3 groups"
   ]
  },
  {
   "cell_type": "code",
   "execution_count": 272,
   "id": "970918f6",
   "metadata": {},
   "outputs": [
    {
     "data": {
      "text/html": [
       "<div>\n",
       "<style scoped>\n",
       "    .dataframe tbody tr th:only-of-type {\n",
       "        vertical-align: middle;\n",
       "    }\n",
       "\n",
       "    .dataframe tbody tr th {\n",
       "        vertical-align: top;\n",
       "    }\n",
       "\n",
       "    .dataframe thead th {\n",
       "        text-align: right;\n",
       "    }\n",
       "</style>\n",
       "<table border=\"1\" class=\"dataframe\">\n",
       "  <thead>\n",
       "    <tr style=\"text-align: right;\">\n",
       "      <th></th>\n",
       "      <th>row_id</th>\n",
       "      <th>user_id</th>\n",
       "      <th>category_id</th>\n",
       "      <th>video_id</th>\n",
       "      <th>age</th>\n",
       "      <th>gender</th>\n",
       "      <th>profession</th>\n",
       "      <th>followers</th>\n",
       "      <th>views</th>\n",
       "      <th>engagement_score</th>\n",
       "      <th>avg_category_score</th>\n",
       "      <th>avg_user_score</th>\n",
       "      <th>avg_video_score</th>\n",
       "      <th>avg_age_score</th>\n",
       "      <th>avg_gender_score</th>\n",
       "      <th>avg_profession_score</th>\n",
       "    </tr>\n",
       "  </thead>\n",
       "  <tbody>\n",
       "    <tr>\n",
       "      <th>0</th>\n",
       "      <td>1</td>\n",
       "      <td>19990</td>\n",
       "      <td>37</td>\n",
       "      <td>128</td>\n",
       "      <td>24</td>\n",
       "      <td>Male</td>\n",
       "      <td>Student</td>\n",
       "      <td>180</td>\n",
       "      <td>1000</td>\n",
       "      <td>4.33</td>\n",
       "      <td>3.314751</td>\n",
       "      <td>4.673333</td>\n",
       "      <td>3.325765</td>\n",
       "      <td>3.454467</td>\n",
       "      <td>3.783555</td>\n",
       "      <td>3.73797</td>\n",
       "    </tr>\n",
       "    <tr>\n",
       "      <th>1</th>\n",
       "      <td>2</td>\n",
       "      <td>5304</td>\n",
       "      <td>32</td>\n",
       "      <td>132</td>\n",
       "      <td>14</td>\n",
       "      <td>Female</td>\n",
       "      <td>Student</td>\n",
       "      <td>330</td>\n",
       "      <td>714</td>\n",
       "      <td>1.79</td>\n",
       "      <td>3.442341</td>\n",
       "      <td>3.080000</td>\n",
       "      <td>3.414046</td>\n",
       "      <td>3.746523</td>\n",
       "      <td>3.066688</td>\n",
       "      <td>3.73797</td>\n",
       "    </tr>\n",
       "  </tbody>\n",
       "</table>\n",
       "</div>"
      ],
      "text/plain": [
       "   row_id  user_id  category_id  video_id  age  gender profession  followers  \\\n",
       "0       1    19990           37       128   24    Male    Student        180   \n",
       "1       2     5304           32       132   14  Female    Student        330   \n",
       "\n",
       "   views  engagement_score  avg_category_score  avg_user_score  \\\n",
       "0   1000              4.33            3.314751        4.673333   \n",
       "1    714              1.79            3.442341        3.080000   \n",
       "\n",
       "   avg_video_score  avg_age_score  avg_gender_score  avg_profession_score  \n",
       "0         3.325765       3.454467          3.783555               3.73797  \n",
       "1         3.414046       3.746523          3.066688               3.73797  "
      ]
     },
     "execution_count": 272,
     "metadata": {},
     "output_type": "execute_result"
    }
   ],
   "source": [
    "data_train.head(2)"
   ]
  },
  {
   "cell_type": "markdown",
   "id": "d290450a",
   "metadata": {},
   "source": [
    "### Changing categorical variables into numerical"
   ]
  },
  {
   "cell_type": "code",
   "execution_count": 273,
   "id": "77ece8e8",
   "metadata": {},
   "outputs": [],
   "source": [
    "from sklearn.preprocessing import LabelEncoder\n",
    "\n",
    "#for train data\n",
    "data_train[\"Gender\"]=pd.get_dummies(data_train[\"gender\"],drop_first=True)\n",
    "LE=LabelEncoder()\n",
    "LE.fit(data_train[\"profession\"])\n",
    "data_train[\"Profession\"]=LE.transform(data_train[\"profession\"])\n",
    "\n",
    "data_train.drop(columns=['gender','profession'],inplace=True)\n",
    "\n",
    "#for test data\n",
    "data_test[\"Gender\"]=pd.get_dummies(data_test[\"gender\"],drop_first=True)\n",
    "le=LabelEncoder()\n",
    "le.fit(data_test[\"profession\"])\n",
    "data_test[\"Profession\"]=le.transform(data_test[\"profession\"])\n",
    "\n",
    "data_test.drop(columns=['gender','profession'],inplace=True)\n"
   ]
  },
  {
   "cell_type": "code",
   "execution_count": 274,
   "id": "dd803977",
   "metadata": {},
   "outputs": [],
   "source": [
    "data_train['views_per_follower']=data_train['views']/data_train['followers']\n",
    "data_test['views_per_follower']=data_test['views']/data_test['followers']"
   ]
  },
  {
   "cell_type": "code",
   "execution_count": 275,
   "id": "63f3c38b",
   "metadata": {},
   "outputs": [
    {
     "data": {
      "text/html": [
       "<div>\n",
       "<style scoped>\n",
       "    .dataframe tbody tr th:only-of-type {\n",
       "        vertical-align: middle;\n",
       "    }\n",
       "\n",
       "    .dataframe tbody tr th {\n",
       "        vertical-align: top;\n",
       "    }\n",
       "\n",
       "    .dataframe thead th {\n",
       "        text-align: right;\n",
       "    }\n",
       "</style>\n",
       "<table border=\"1\" class=\"dataframe\">\n",
       "  <thead>\n",
       "    <tr style=\"text-align: right;\">\n",
       "      <th></th>\n",
       "      <th>row_id</th>\n",
       "      <th>user_id</th>\n",
       "      <th>category_id</th>\n",
       "      <th>video_id</th>\n",
       "      <th>age</th>\n",
       "      <th>followers</th>\n",
       "      <th>views</th>\n",
       "      <th>engagement_score</th>\n",
       "      <th>avg_category_score</th>\n",
       "      <th>avg_user_score</th>\n",
       "      <th>avg_video_score</th>\n",
       "      <th>avg_age_score</th>\n",
       "      <th>avg_gender_score</th>\n",
       "      <th>avg_profession_score</th>\n",
       "      <th>Gender</th>\n",
       "      <th>Profession</th>\n",
       "      <th>views_per_follower</th>\n",
       "    </tr>\n",
       "  </thead>\n",
       "  <tbody>\n",
       "    <tr>\n",
       "      <th>0</th>\n",
       "      <td>1</td>\n",
       "      <td>19990</td>\n",
       "      <td>37</td>\n",
       "      <td>128</td>\n",
       "      <td>24</td>\n",
       "      <td>180</td>\n",
       "      <td>1000</td>\n",
       "      <td>4.33</td>\n",
       "      <td>3.314751</td>\n",
       "      <td>4.673333</td>\n",
       "      <td>3.325765</td>\n",
       "      <td>3.454467</td>\n",
       "      <td>3.783555</td>\n",
       "      <td>3.737970</td>\n",
       "      <td>1</td>\n",
       "      <td>1</td>\n",
       "      <td>5.555556</td>\n",
       "    </tr>\n",
       "    <tr>\n",
       "      <th>1</th>\n",
       "      <td>2</td>\n",
       "      <td>5304</td>\n",
       "      <td>32</td>\n",
       "      <td>132</td>\n",
       "      <td>14</td>\n",
       "      <td>330</td>\n",
       "      <td>714</td>\n",
       "      <td>1.79</td>\n",
       "      <td>3.442341</td>\n",
       "      <td>3.080000</td>\n",
       "      <td>3.414046</td>\n",
       "      <td>3.746523</td>\n",
       "      <td>3.066688</td>\n",
       "      <td>3.737970</td>\n",
       "      <td>0</td>\n",
       "      <td>1</td>\n",
       "      <td>2.163636</td>\n",
       "    </tr>\n",
       "    <tr>\n",
       "      <th>2</th>\n",
       "      <td>3</td>\n",
       "      <td>1840</td>\n",
       "      <td>12</td>\n",
       "      <td>24</td>\n",
       "      <td>19</td>\n",
       "      <td>180</td>\n",
       "      <td>138</td>\n",
       "      <td>4.35</td>\n",
       "      <td>3.571666</td>\n",
       "      <td>4.193333</td>\n",
       "      <td>3.478865</td>\n",
       "      <td>3.701378</td>\n",
       "      <td>3.783555</td>\n",
       "      <td>3.737970</td>\n",
       "      <td>1</td>\n",
       "      <td>1</td>\n",
       "      <td>0.766667</td>\n",
       "    </tr>\n",
       "    <tr>\n",
       "      <th>3</th>\n",
       "      <td>4</td>\n",
       "      <td>12597</td>\n",
       "      <td>23</td>\n",
       "      <td>112</td>\n",
       "      <td>19</td>\n",
       "      <td>220</td>\n",
       "      <td>613</td>\n",
       "      <td>3.77</td>\n",
       "      <td>3.955189</td>\n",
       "      <td>3.410000</td>\n",
       "      <td>3.877502</td>\n",
       "      <td>3.701378</td>\n",
       "      <td>3.783555</td>\n",
       "      <td>3.737970</td>\n",
       "      <td>1</td>\n",
       "      <td>1</td>\n",
       "      <td>2.786364</td>\n",
       "    </tr>\n",
       "    <tr>\n",
       "      <th>4</th>\n",
       "      <td>5</td>\n",
       "      <td>13626</td>\n",
       "      <td>23</td>\n",
       "      <td>112</td>\n",
       "      <td>27</td>\n",
       "      <td>220</td>\n",
       "      <td>613</td>\n",
       "      <td>3.13</td>\n",
       "      <td>3.955189</td>\n",
       "      <td>3.152500</td>\n",
       "      <td>3.877502</td>\n",
       "      <td>3.295289</td>\n",
       "      <td>3.783555</td>\n",
       "      <td>3.096949</td>\n",
       "      <td>1</td>\n",
       "      <td>2</td>\n",
       "      <td>2.786364</td>\n",
       "    </tr>\n",
       "  </tbody>\n",
       "</table>\n",
       "</div>"
      ],
      "text/plain": [
       "   row_id  user_id  category_id  video_id  age  followers  views  \\\n",
       "0       1    19990           37       128   24        180   1000   \n",
       "1       2     5304           32       132   14        330    714   \n",
       "2       3     1840           12        24   19        180    138   \n",
       "3       4    12597           23       112   19        220    613   \n",
       "4       5    13626           23       112   27        220    613   \n",
       "\n",
       "   engagement_score  avg_category_score  avg_user_score  avg_video_score  \\\n",
       "0              4.33            3.314751        4.673333         3.325765   \n",
       "1              1.79            3.442341        3.080000         3.414046   \n",
       "2              4.35            3.571666        4.193333         3.478865   \n",
       "3              3.77            3.955189        3.410000         3.877502   \n",
       "4              3.13            3.955189        3.152500         3.877502   \n",
       "\n",
       "   avg_age_score  avg_gender_score  avg_profession_score  Gender  Profession  \\\n",
       "0       3.454467          3.783555              3.737970       1           1   \n",
       "1       3.746523          3.066688              3.737970       0           1   \n",
       "2       3.701378          3.783555              3.737970       1           1   \n",
       "3       3.701378          3.783555              3.737970       1           1   \n",
       "4       3.295289          3.783555              3.096949       1           2   \n",
       "\n",
       "   views_per_follower  \n",
       "0            5.555556  \n",
       "1            2.163636  \n",
       "2            0.766667  \n",
       "3            2.786364  \n",
       "4            2.786364  "
      ]
     },
     "execution_count": 275,
     "metadata": {},
     "output_type": "execute_result"
    }
   ],
   "source": [
    "data_train.head(5)"
   ]
  },
  {
   "cell_type": "code",
   "execution_count": 276,
   "id": "cb1b4933",
   "metadata": {},
   "outputs": [
    {
     "data": {
      "text/plain": [
       "Index(['row_id', 'user_id', 'category_id', 'video_id', 'age', 'followers',\n",
       "       'views', 'engagement_score', 'avg_category_score', 'avg_user_score',\n",
       "       'avg_video_score', 'avg_age_score', 'avg_gender_score',\n",
       "       'avg_profession_score', 'Gender', 'Profession', 'views_per_follower'],\n",
       "      dtype='object')"
      ]
     },
     "execution_count": 276,
     "metadata": {},
     "output_type": "execute_result"
    }
   ],
   "source": [
    "#columns of train dataset.\n",
    "data_train.columns"
   ]
  },
  {
   "cell_type": "markdown",
   "id": "9abf35e6",
   "metadata": {},
   "source": [
    "### Model creation and predction"
   ]
  },
  {
   "cell_type": "code",
   "execution_count": 277,
   "id": "25c5182b",
   "metadata": {},
   "outputs": [
    {
     "name": "stdout",
     "output_type": "stream",
     "text": [
      "x shape: (89197, 14)\n",
      "x_test shape: (11121, 14)\n"
     ]
    },
    {
     "data": {
      "text/plain": [
       "((71357, 14), (17840, 14), (71357,), (17840,))"
      ]
     },
     "execution_count": 277,
     "metadata": {},
     "output_type": "execute_result"
    }
   ],
   "source": [
    "from sklearn.model_selection import train_test_split\n",
    "#The required variables \n",
    "columns=['user_id', 'category_id', 'video_id', 'age', 'followers','views','avg_user_score', 'avg_category_score',\n",
    "       'avg_video_score', 'avg_age_score', 'avg_gender_score','avg_profession_score', 'Gender',\n",
    "       'Profession']\n",
    "\n",
    "# seperating x and y\n",
    "x=data_train[columns]\n",
    "y=data_train['engagement_score']\n",
    "print('x shape:', x.shape)\n",
    "x_test=data_test[columns]\n",
    "print('x_test shape:', x_test.shape)\n",
    "\n",
    "#splitting train data into train and validation\n",
    "x_train, x_val, y_train, y_val= train_test_split(x,y, test_size=0.2, random_state=46)\n",
    "x_train.shape, x_val.shape, y_train.shape, y_val.shape"
   ]
  },
  {
   "cell_type": "code",
   "execution_count": 278,
   "id": "840ff728",
   "metadata": {},
   "outputs": [],
   "source": [
    "from sklearn.preprocessing import StandardScaler\n",
    "#standardising the data\n",
    "scaler = StandardScaler()\n",
    "x_train = scaler.fit_transform(x_train)\n",
    "x_val = scaler.transform(x_val)\n",
    "x_test = scaler.transform(x_test)"
   ]
  },
  {
   "cell_type": "code",
   "execution_count": 279,
   "id": "9580f83c",
   "metadata": {},
   "outputs": [],
   "source": [
    "#Importing required models\n",
    "from sklearn.linear_model import LinearRegression\n",
    "from sklearn.ensemble import GradientBoostingRegressor, RandomForestRegressor \n",
    "from xgboost import XGBRegressor, XGBRFRegressor\n",
    "from sklearn.tree import DecisionTreeRegressor\n",
    "from sklearn.neighbors import KNeighborsRegressor\n",
    "\n",
    "from sklearn.metrics import r2_score"
   ]
  },
  {
   "cell_type": "markdown",
   "id": "46f4c268",
   "metadata": {},
   "source": [
    "### Linear Regression Model"
   ]
  },
  {
   "cell_type": "code",
   "execution_count": 280,
   "id": "997723ff",
   "metadata": {},
   "outputs": [
    {
     "name": "stdout",
     "output_type": "stream",
     "text": [
      "The score of Linear Regression Model : 0.6793918249000382\n"
     ]
    }
   ],
   "source": [
    "#building linear model\n",
    "LR_model=LinearRegression(fit_intercept=True,normalize=False,copy_X=True, n_jobs=None)\n",
    "LR_model.fit(x_train,y_train)\n",
    "pred=LR_model.predict(x_val)\n",
    "print(\"The score of Linear Regression Model :\" , r2_score(y_val,pred))"
   ]
  },
  {
   "cell_type": "markdown",
   "id": "eeb01f97",
   "metadata": {},
   "source": [
    "### K Neighbors Model"
   ]
  },
  {
   "cell_type": "code",
   "execution_count": 281,
   "id": "cad46a92",
   "metadata": {},
   "outputs": [
    {
     "name": "stdout",
     "output_type": "stream",
     "text": [
      " The Score of K Neighbors Regressor Model : 0.6168380203621942\n"
     ]
    }
   ],
   "source": [
    "#building a knn model\n",
    "KNR_model=KNeighborsRegressor()\n",
    "KNR_model.fit(x_train,y_train)\n",
    "predKNR=KNR_model.predict(x_val)\n",
    "print(\" The Score of K Neighbors Regressor Model :\" ,r2_score(y_val,predKNR)) "
   ]
  },
  {
   "cell_type": "markdown",
   "id": "8a680724",
   "metadata": {},
   "source": [
    "### Random Forest Model"
   ]
  },
  {
   "cell_type": "code",
   "execution_count": 282,
   "id": "e1fe4bad",
   "metadata": {},
   "outputs": [
    {
     "name": "stdout",
     "output_type": "stream",
     "text": [
      " The Score of Random Forest Regressor Model : 0.6656881081108834\n"
     ]
    }
   ],
   "source": [
    "#building a random forest model\n",
    "RFR_model=RandomForestRegressor()\n",
    "RFR_model.fit(x_train,y_train)\n",
    "predRFR=RFR_model.predict(x_val)\n",
    "print(\" The Score of Random Forest Regressor Model :\" ,r2_score(y_val,predRFR)) "
   ]
  },
  {
   "cell_type": "markdown",
   "id": "eae4fe7f",
   "metadata": {},
   "source": [
    "### XGB Regressor Model"
   ]
  },
  {
   "cell_type": "code",
   "execution_count": 283,
   "id": "1ca0ec67",
   "metadata": {},
   "outputs": [
    {
     "name": "stdout",
     "output_type": "stream",
     "text": [
      " The Score of XGB Regressor  Model : 0.6883464058303883\n"
     ]
    }
   ],
   "source": [
    "# building an xgb model\n",
    "XGB_model=XGBRegressor()\n",
    "XGB_model.fit(x_train,y_train)\n",
    "predXGB=XGB_model.predict(x_val)\n",
    "print(\" The Score of XGB Regressor  Model :\" ,r2_score(y_val,predXGB)) "
   ]
  },
  {
   "cell_type": "markdown",
   "id": "d8b12697",
   "metadata": {},
   "source": [
    "### Gradient Boosting Model"
   ]
  },
  {
   "cell_type": "code",
   "execution_count": 284,
   "id": "31ead2f7",
   "metadata": {},
   "outputs": [
    {
     "name": "stdout",
     "output_type": "stream",
     "text": [
      " The Score of GBR Regressor  Model : 0.6919603588120619\n"
     ]
    }
   ],
   "source": [
    "GBR_model=GradientBoostingRegressor()\n",
    "GBR_model.fit(x_train,y_train)\n",
    "predGBR=GBR_model.predict(x_val)\n",
    "print(\" The Score of GBR Regressor  Model :\" ,r2_score(y_val,predGBR)) "
   ]
  },
  {
   "cell_type": "markdown",
   "id": "9517f0f0",
   "metadata": {},
   "source": [
    "1. By creating new features now the score is better.\n",
    "2. The score for Linear Regression Model is 89%.\n",
    "3. The score for Decision Tree Model is 72.6%.\n",
    "4. The score for K Neighbors Model is 80.6%.\n",
    "5. The score for Random Forest Model is 85.7%.\n",
    "6. The score for XGB regressor Model is 88.2%.\n",
    "7. The score for Gradient Boosting Model is 88.8%.\n",
    "8. The score for XGBRF regressor Model is 88.2%."
   ]
  },
  {
   "cell_type": "markdown",
   "id": "6d79751c",
   "metadata": {},
   "source": [
    "#### Final prediction based on Linear Regression model as it is giving high score"
   ]
  },
  {
   "cell_type": "code",
   "execution_count": 286,
   "id": "c25719a4",
   "metadata": {},
   "outputs": [
    {
     "data": {
      "text/html": [
       "<div>\n",
       "<style scoped>\n",
       "    .dataframe tbody tr th:only-of-type {\n",
       "        vertical-align: middle;\n",
       "    }\n",
       "\n",
       "    .dataframe tbody tr th {\n",
       "        vertical-align: top;\n",
       "    }\n",
       "\n",
       "    .dataframe thead th {\n",
       "        text-align: right;\n",
       "    }\n",
       "</style>\n",
       "<table border=\"1\" class=\"dataframe\">\n",
       "  <thead>\n",
       "    <tr style=\"text-align: right;\">\n",
       "      <th></th>\n",
       "      <th>row_id</th>\n",
       "      <th>user_id</th>\n",
       "      <th>category_id</th>\n",
       "      <th>video_id</th>\n",
       "      <th>age</th>\n",
       "      <th>followers</th>\n",
       "      <th>views</th>\n",
       "      <th>avg_category_score</th>\n",
       "      <th>avg_user_score</th>\n",
       "      <th>avg_video_score</th>\n",
       "      <th>avg_age_score</th>\n",
       "      <th>avg_gender_score</th>\n",
       "      <th>avg_profession_score</th>\n",
       "      <th>Gender</th>\n",
       "      <th>Profession</th>\n",
       "      <th>views_per_follower</th>\n",
       "      <th>engagement_score</th>\n",
       "    </tr>\n",
       "  </thead>\n",
       "  <tbody>\n",
       "    <tr>\n",
       "      <th>0</th>\n",
       "      <td>89198</td>\n",
       "      <td>7986</td>\n",
       "      <td>12</td>\n",
       "      <td>42</td>\n",
       "      <td>14</td>\n",
       "      <td>180</td>\n",
       "      <td>138</td>\n",
       "      <td>3.571666</td>\n",
       "      <td>4.195000</td>\n",
       "      <td>3.619694</td>\n",
       "      <td>3.746523</td>\n",
       "      <td>3.783555</td>\n",
       "      <td>3.737970</td>\n",
       "      <td>1</td>\n",
       "      <td>1</td>\n",
       "      <td>0.766667</td>\n",
       "      <td>4.249051</td>\n",
       "    </tr>\n",
       "    <tr>\n",
       "      <th>1</th>\n",
       "      <td>89199</td>\n",
       "      <td>11278</td>\n",
       "      <td>34</td>\n",
       "      <td>115</td>\n",
       "      <td>14</td>\n",
       "      <td>230</td>\n",
       "      <td>840</td>\n",
       "      <td>2.792624</td>\n",
       "      <td>4.146000</td>\n",
       "      <td>2.596612</td>\n",
       "      <td>3.746523</td>\n",
       "      <td>3.783555</td>\n",
       "      <td>3.737970</td>\n",
       "      <td>1</td>\n",
       "      <td>1</td>\n",
       "      <td>3.652174</td>\n",
       "      <td>3.634671</td>\n",
       "    </tr>\n",
       "    <tr>\n",
       "      <th>2</th>\n",
       "      <td>89200</td>\n",
       "      <td>17245</td>\n",
       "      <td>8</td>\n",
       "      <td>110</td>\n",
       "      <td>44</td>\n",
       "      <td>280</td>\n",
       "      <td>628</td>\n",
       "      <td>3.602425</td>\n",
       "      <td>2.228000</td>\n",
       "      <td>3.684526</td>\n",
       "      <td>3.226303</td>\n",
       "      <td>3.066688</td>\n",
       "      <td>3.096949</td>\n",
       "      <td>0</td>\n",
       "      <td>2</td>\n",
       "      <td>2.242857</td>\n",
       "      <td>2.381208</td>\n",
       "    </tr>\n",
       "    <tr>\n",
       "      <th>3</th>\n",
       "      <td>89201</td>\n",
       "      <td>9851</td>\n",
       "      <td>16</td>\n",
       "      <td>137</td>\n",
       "      <td>18</td>\n",
       "      <td>270</td>\n",
       "      <td>462</td>\n",
       "      <td>3.559105</td>\n",
       "      <td>2.836667</td>\n",
       "      <td>3.464688</td>\n",
       "      <td>3.700154</td>\n",
       "      <td>3.783555</td>\n",
       "      <td>3.737970</td>\n",
       "      <td>1</td>\n",
       "      <td>1</td>\n",
       "      <td>1.711111</td>\n",
       "      <td>2.851834</td>\n",
       "    </tr>\n",
       "    <tr>\n",
       "      <th>4</th>\n",
       "      <td>89202</td>\n",
       "      <td>16008</td>\n",
       "      <td>34</td>\n",
       "      <td>96</td>\n",
       "      <td>47</td>\n",
       "      <td>230</td>\n",
       "      <td>840</td>\n",
       "      <td>2.792624</td>\n",
       "      <td>2.530000</td>\n",
       "      <td>3.162314</td>\n",
       "      <td>3.034545</td>\n",
       "      <td>3.066688</td>\n",
       "      <td>3.329757</td>\n",
       "      <td>0</td>\n",
       "      <td>0</td>\n",
       "      <td>3.652174</td>\n",
       "      <td>2.476392</td>\n",
       "    </tr>\n",
       "  </tbody>\n",
       "</table>\n",
       "</div>"
      ],
      "text/plain": [
       "   row_id  user_id  category_id  video_id  age  followers  views  \\\n",
       "0   89198     7986           12        42   14        180    138   \n",
       "1   89199    11278           34       115   14        230    840   \n",
       "2   89200    17245            8       110   44        280    628   \n",
       "3   89201     9851           16       137   18        270    462   \n",
       "4   89202    16008           34        96   47        230    840   \n",
       "\n",
       "   avg_category_score  avg_user_score  avg_video_score  avg_age_score  \\\n",
       "0            3.571666        4.195000         3.619694       3.746523   \n",
       "1            2.792624        4.146000         2.596612       3.746523   \n",
       "2            3.602425        2.228000         3.684526       3.226303   \n",
       "3            3.559105        2.836667         3.464688       3.700154   \n",
       "4            2.792624        2.530000         3.162314       3.034545   \n",
       "\n",
       "   avg_gender_score  avg_profession_score  Gender  Profession  \\\n",
       "0          3.783555              3.737970       1           1   \n",
       "1          3.783555              3.737970       1           1   \n",
       "2          3.066688              3.096949       0           2   \n",
       "3          3.783555              3.737970       1           1   \n",
       "4          3.066688              3.329757       0           0   \n",
       "\n",
       "   views_per_follower  engagement_score  \n",
       "0            0.766667          4.249051  \n",
       "1            3.652174          3.634671  \n",
       "2            2.242857          2.381208  \n",
       "3            1.711111          2.851834  \n",
       "4            3.652174          2.476392  "
      ]
     },
     "execution_count": 286,
     "metadata": {},
     "output_type": "execute_result"
    }
   ],
   "source": [
    "final=LR_model.predict(x_test) \n",
    "data_test[\"engagement_score\"]=final  \n",
    "data_test.head()"
   ]
  },
  {
   "cell_type": "code",
   "execution_count": 287,
   "id": "8e9e138e",
   "metadata": {},
   "outputs": [],
   "source": [
    "code_file=pd.DataFrame().assign(row_id=data_test['row_id'],engagement_score=data_test['engagement_score'])"
   ]
  },
  {
   "cell_type": "code",
   "execution_count": 288,
   "id": "174f5270",
   "metadata": {},
   "outputs": [],
   "source": [
    "code_file.to_csv(r'code_fil.csv', index=False)"
   ]
  },
  {
   "cell_type": "code",
   "execution_count": null,
   "id": "8446dea5",
   "metadata": {},
   "outputs": [],
   "source": []
  }
 ],
 "metadata": {
  "kernelspec": {
   "display_name": "Python 3 (ipykernel)",
   "language": "python",
   "name": "python3"
  },
  "language_info": {
   "codemirror_mode": {
    "name": "ipython",
    "version": 3
   },
   "file_extension": ".py",
   "mimetype": "text/x-python",
   "name": "python",
   "nbconvert_exporter": "python",
   "pygments_lexer": "ipython3",
   "version": "3.9.13"
  }
 },
 "nbformat": 4,
 "nbformat_minor": 5
}
