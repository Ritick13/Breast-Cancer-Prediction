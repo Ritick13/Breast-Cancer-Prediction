{
  "nbformat": 4,
  "nbformat_minor": 0,
  "metadata": {
    "colab": {
      "name": "breast_cancer.ipynb",
      "provenance": [],
      "collapsed_sections": []
    },
    "kernelspec": {
      "name": "python3",
      "display_name": "Python 3"
    },
    "language_info": {
      "name": "python"
    }
  },
  "cells": [
    {
      "cell_type": "code",
      "metadata": {
        "id": "9z7bLioMDo1t"
      },
      "source": [
        "import pandas as pd\n",
        "import numpy as np\n",
        "import matplotlib.pyplot as plt\n",
        "import math"
      ],
      "execution_count": 25,
      "outputs": []
    },
    {
      "cell_type": "code",
      "metadata": {
        "id": "N7ZTJqhfIDor"
      },
      "source": [
        "dataset = pd.read_csv('breast_cancer.csv')\n",
        "X = dataset.iloc[:,1:-1].values\n",
        "y = dataset.iloc[:,-1].values"
      ],
      "execution_count": 26,
      "outputs": []
    },
    {
      "cell_type": "code",
      "metadata": {
        "id": "1dSdXS6Tcfbc"
      },
      "source": [
        "from sklearn.model_selection import train_test_split as tts\n",
        "X_train , X_test, y_train, y_test = tts(X,y,test_size = 0.2, random_state = 0)"
      ],
      "execution_count": 27,
      "outputs": []
    },
    {
      "cell_type": "code",
      "metadata": {
        "id": "vu0nsK29d6fi"
      },
      "source": [
        "from sklearn.linear_model import LogisticRegression \n",
        "classifier1 = LogisticRegression()\n",
        "classifier1.fit(X_train,y_train)\n",
        "y_pred1 = classifier.predict(X_test)"
      ],
      "execution_count": 28,
      "outputs": []
    },
    {
      "cell_type": "code",
      "metadata": {
        "id": "rQdAJkwWmQ4n"
      },
      "source": [
        "from sklearn.neighbors import KNeighborsClassifier\n",
        "classifier2 = KNeighborsClassifier(n_neighbors = 5, metric ='minkowski', p = 2)\n",
        "classifier2.fit(X_train,y_train)\n",
        "y_pred2 = classifier2.predict(X_test)\n"
      ],
      "execution_count": 29,
      "outputs": []
    },
    {
      "cell_type": "code",
      "metadata": {
        "colab": {
          "base_uri": "https://localhost:8080/"
        },
        "id": "_de446G2_Hya",
        "outputId": "37395d20-6689-47af-8916-eb512a492a41"
      },
      "source": [
        "from sklearn.metrics import confusion_matrix\n",
        "cm1 = confusion_matrix(y_test,y_pred1)\n",
        "cm2 = confusion_matrix(y_test,y_pred2)\n",
        "print (cm1)\n",
        "print (cm2)"
      ],
      "execution_count": 30,
      "outputs": [
        {
          "output_type": "stream",
          "text": [
            "[[84  3]\n",
            " [ 3 47]]\n",
            "[[84  3]\n",
            " [ 1 49]]\n"
          ],
          "name": "stdout"
        }
      ]
    },
    {
      "cell_type": "code",
      "metadata": {
        "colab": {
          "base_uri": "https://localhost:8080/"
        },
        "id": "FeQ9y7rGAnMd",
        "outputId": "cee9f8ce-34eb-4814-f4ac-3c06c552b9e7"
      },
      "source": [
        "from sklearn.model_selection import cross_val_score\n",
        "kcs1 = cross_val_score(estimator = classifier1, X = X_train , y = y_train , cv = 10)\n",
        "kcs2 = cross_val_score(estimator = classifier2, X = X_train , y = y_train , cv = 10)\n",
        "print(int(kcs1.mean()*100))\n",
        "print(kcs1.std())\n",
        "print(int(kcs2.mean()*100))\n",
        "print(kcs2.std())"
      ],
      "execution_count": 31,
      "outputs": [
        {
          "output_type": "stream",
          "text": [
            "96\n",
            "0.019697976894447813\n",
            "97\n",
            "0.018543264763657256\n"
          ],
          "name": "stdout"
        }
      ]
    },
    {
      "cell_type": "code",
      "metadata": {
        "id": "BnSNWKiS-3uR"
      },
      "source": [
        "from sklearn.preprocessing import StandardScaler\n",
        "sc = StandardScaler()\n",
        "X_train = sc.fit_transform(X_train)\n",
        "X_test = sc.transform(X_test)"
      ],
      "execution_count": null,
      "outputs": []
    }
  ]
}